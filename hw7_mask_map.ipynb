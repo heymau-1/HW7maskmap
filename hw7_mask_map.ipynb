{
  "nbformat": 4,
  "nbformat_minor": 0,
  "metadata": {
    "colab": {
      "provenance": [],
      "authorship_tag": "ABX9TyOo26/M65OTT2iQrakdhM51",
      "include_colab_link": true
    },
    "kernelspec": {
      "name": "python3",
      "display_name": "Python 3"
    },
    "language_info": {
      "name": "python"
    }
  },
  "cells": [
    {
      "cell_type": "markdown",
      "metadata": {
        "id": "view-in-github",
        "colab_type": "text"
      },
      "source": [
        "<a href=\"https://colab.research.google.com/github/heymau-1/HW7maskmap/blob/main/hw7_mask_map.ipynb\" target=\"_parent\"><img src=\"https://colab.research.google.com/assets/colab-badge.svg\" alt=\"Open In Colab\"/></a>"
      ]
    },
    {
      "cell_type": "code",
      "execution_count": null,
      "metadata": {
        "id": "HFBUkPHBIItF"
      },
      "outputs": [],
      "source": []
    },
    {
      "cell_type": "code",
      "source": [
        "import requests\n",
        "import json\n",
        "\n",
        "\n",
        "# 利用 requests 對 API 來源發送一個請求\n",
        "url = 'https://raw.githubusercontent.com/kiang/pharmacies/master/json/points.json'\n",
        "response =  requests.get(url)\n",
        "\n",
        "# 將請求回應的內容存成一個字串格式\n",
        "d = response.text\n",
        "\n",
        "# 將長得像 json 格式的字串解析成字典或列表\n",
        "data = json.loads(d)\n",
        "\n",
        "print(data)\n",
        "\n",
        "#. 接下來，請你將取回來的資料利用 Python 語法計算各地區的藥局數量，完成後 Commit 成第二個版本：\n",
        "med_count = {}\n",
        "\n",
        "# 填入欄位名稱\n",
        "#所有藥局資料被包含在一個名為features的列表中，而不是直接在data字典的根層級。您需要適當地引用這個列表來遍歷藥局數據。\n",
        "for d in data['features'] :\n",
        "\tcounty = d['properties']['county']\n",
        "\tif county in med_count:\n",
        "\t\tmed_count[county] += 1\n",
        "\telse:\n",
        "\t\tmed_count [county] = 1\n",
        "\n",
        "print(med_count)\n",
        "\n",
        "# 接下來請你計算出每個地區的成人剩餘口罩數量，並且將結果從大到小排列，完成後 Commit 第三個版本：\n",
        "mask_count = {}\n",
        "\n",
        "# 填入欄位名稱\n",
        "for d in data['features']:\n",
        "\tcounty = d['properties']['county']\n",
        "\tif county in mask_count :\n",
        "\t\tmask_count[county] += d['properties']['mask_adult']\n",
        "\telse :\n",
        "\t\tmask_count[county] = d['properties']['mask_adult']\n",
        "\n",
        "# 將結果從大到小排列\n",
        "med_count = dict(sorted(mask_count.items(), key=lambda item: item[1]))  # 按元組的第二個元素(aka口罩數量)排序\n",
        "\n",
        "print(mask_count)\n"
      ],
      "metadata": {
        "id": "QKQPV7auIOvc"
      },
      "execution_count": null,
      "outputs": []
    }
  ]
}